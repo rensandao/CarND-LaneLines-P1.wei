{
 "cells": [
  {
   "cell_type": "markdown",
   "metadata": {},
   "source": [
    "# Finding Lane Lines on the Road"
   ]
  },
  {
   "cell_type": "markdown",
   "metadata": {},
   "source": [
    "## Writeup Template\n",
    "\n",
    "You can use this file as a template for your writeup if you want to submit it as a markdown file. But feel free to use some other method and submit a pdf if you prefer.\n",
    "\n",
    "\n",
    "\n",
    "**Finding Lane Lines on the Road**\n",
    "\n",
    "The goals / steps of this project are the following:\n",
    "\n",
    "（1）Make a pipeline that finds lane lines on the road \n",
    "\n",
    "（2）Reflect on your work in a written report"
   ]
  },
  {
   "cell_type": "markdown",
   "metadata": {},
   "source": [
    "## Reflection"
   ]
  },
  {
   "cell_type": "markdown",
   "metadata": {},
   "source": [
    "### 1. Describe your pipeline. As part of the description, explain how you modified the draw_lines() function."
   ]
  },
  {
   "cell_type": "markdown",
   "metadata": {},
   "source": [
    "My pipeline consisted of 5 steps：\n",
    "\n",
    "    (1) Converting the images to grayscale.\n",
    "\n",
    "    (2) Dealing with the grayscaled images using Gassian Blur.\n",
    "\n",
    "    (3) Getting edges based on Canny Edge Detection.\n",
    "\n",
    "    (4) Limiting the intested region.\n",
    "\n",
    "    (5) Finding and drawing lines based on Hough Transform. "
   ]
  },
  {
   "cell_type": "markdown",
   "metadata": {},
   "source": [
    "To get some ideal effect, some special parameters were adjusted for many times. \n",
    "\n",
    "    (1) For Gaussian Blur, it almost showed little change when the kernel size equals 3 at first. After trying for serval times, I \n",
    "        set it to 7.\n",
    "\n",
    "    (2) For Canny Edge Detection, I referred to the experience of adjusting parameter in the video exercise. Based on the \n",
    "        ratio(1:3), I set low thresholds 50 and high_thresholds 150.\n",
    "\n",
    "    (3) For Hough Transform, I took(1, numpy.pi/180, 30, 5, 10) as ( rho, theta, threshold, min_line_len, max_line_gap)."
   ]
  },
  {
   "cell_type": "markdown",
   "metadata": {},
   "source": [
    "In order to draw a single line on the left and right lanes, I modified the draw_lines() function \n",
    "by combining a fuction draw_fitting_lines() with draw_lines(). \n",
    "\n",
    "To solve the problem of extrapolating line segments, My basic logical thinking is as following:\n",
    "    \n",
    "    (1) Try to draw only two lines among the left and right lanes. \n",
    "    \n",
    "    (2) The slope of lines must be limited to a certain range, which can mask most of irrelevant lines.\n",
    "        (i.e., absoulte(slope)>0.5 and absolute(slope) <0.8) \n",
    "        \n",
    "    (3) The two end points can obtained according to the parameter of images coordinate. And use the \n",
    "        function polyfit(), we can easily get the adjusted slope and intercept. The latter can be used \n",
    "        to help obtain the x value of coodinate. Based on them, real-time lines can be draw properly."
   ]
  },
  {
   "cell_type": "markdown",
   "metadata": {},
   "source": [
    "Some results are as following:"
   ]
  },
  {
   "cell_type": "code",
   "execution_count": 16,
   "metadata": {},
   "outputs": [
    {
     "data": {
      "text/html": [
       "<img src=\"test_images_output/whiteCarLaneSwitch.jpg\" width=40%>  \n",
       "<img src=\"test_images_output/solidWhiteRight.jpg\" width=40%>  "
      ],
      "text/plain": [
       "<IPython.core.display.HTML object>"
      ]
     },
     "metadata": {},
     "output_type": "display_data"
    }
   ],
   "source": [
    "%%html\n",
    "<img src=\"test_images_output/whiteCarLaneSwitch.jpg\" width=40%>  \n",
    "<img src=\"test_images_output/solidWhiteRight.jpg\" width=40%>  "
   ]
  },
  {
   "cell_type": "markdown",
   "metadata": {},
   "source": [
    "### 2. Identify potential shortcomings with your current pipeline"
   ]
  },
  {
   "cell_type": "markdown",
   "metadata": {},
   "source": [
    "    (1) The parameters. I adjusted the relevant parameters a lot to match six image given. It must need more time to process massive date of images, and we cannot ensure the perfomance for everyone.\n",
    "\n",
    "    (2) As is shown in challenged video, the line will disappears or cannot predicate when encounting some situation like shadow and urgent sharp curve road. This causes uncertain results, and should be taken in account."
   ]
  },
  {
   "cell_type": "markdown",
   "metadata": {},
   "source": [
    "### 3. Suggest possible improvements to your pipeline"
   ]
  },
  {
   "cell_type": "markdown",
   "metadata": {},
   "source": [
    "    One improvement would be sovle the shadow or sharp curve road situation. By combining some other methods,though I dont know now, we should create more accurate pipeline to sovle these problem.\n",
    "\n",
    "    The other possible improvement I think should be focused on the parameters seting work.Get some algorithm from deep learning, and make it more easy and efficient."
   ]
  }
 ],
 "metadata": {
  "kernelspec": {
   "display_name": "Python 3",
   "language": "python",
   "name": "python3"
  },
  "language_info": {
   "codemirror_mode": {
    "name": "ipython",
    "version": 3
   },
   "file_extension": ".py",
   "mimetype": "text/x-python",
   "name": "python",
   "nbconvert_exporter": "python",
   "pygments_lexer": "ipython3",
   "version": "3.6.2"
  }
 },
 "nbformat": 4,
 "nbformat_minor": 2
}
